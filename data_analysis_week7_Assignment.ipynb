{
 "cells": [
  {
   "cell_type": "markdown",
   "id": "742e463a",
   "metadata": {},
   "source": [
    "# Analyzing Data with Pandas and Visualizing Results with Matplotlib\n",
    "**Dataset:** Portuguese student performance dataset (student-por.csv)\n",
    "This notebook demonstrates data loading, exploration, analysis, and visualization using Pandas and Matplotlib."
   ]
  },
  {
   "cell_type": "markdown",
   "id": "20cc4314",
   "metadata": {},
   "source": [
    "## Task 1: Load and Explore the Dataset"
   ]
  },
  {
   "cell_type": "code",
   "execution_count": null,
   "id": "f6c69050",
   "metadata": {},
   "outputs": [],
   "source": [
    "import pandas as pd\n",
    "import matplotlib.pyplot as plt\n",
    "import seaborn as sns\n",
    "\n",
    "# Load the dataset (semicolon-separated)\n",
    "try:\n",
    "    df = pd.read_csv('student-por.csv', sep=';')\n",
    "except FileNotFoundError:\n",
    "    raise FileNotFoundError(\"Dataset file not found. Please ensure 'student-por.csv' is in the current directory.\")\n",
    "\n",
    "# Display first few rows\n",
    "df.head()"
   ]
  },
  {
   "cell_type": "code",
   "execution_count": null,
   "id": "f33bb5a8",
   "metadata": {},
   "outputs": [],
   "source": [
    "# Check structure and missing values\n",
    "df.info()\n",
    "df.isnull().sum()"
   ]
  },
  {
   "cell_type": "code",
   "execution_count": null,
   "id": "8c2d1f5a",
   "metadata": {},
   "outputs": [],
   "source": [
    "# Clean dataset if necessary: drop rows with missing values\n",
    "df_clean = df.dropna()\n",
    "df_clean.shape"
   ]
  },
  {
   "cell_type": "markdown",
   "id": "0971ddb3",
   "metadata": {},
   "source": [
    "## Task 2: Basic Data Analysis"
   ]
  },
  {
   "cell_type": "code",
   "execution_count": null,
   "id": "a2ef5986",
   "metadata": {},
   "outputs": [],
   "source": [
    "# Basic statistics of numerical columns\n",
    "df_clean.describe()"
   ]
  },
  {
   "cell_type": "code",
   "execution_count": null,
   "id": "427e312d",
   "metadata": {},
   "outputs": [],
   "source": [
    "# Grouping: average final grade (G3) by gender\n",
    "grouped = df_clean.groupby('sex')['G3'].mean()\n",
    "grouped"
   ]
  },
  {
   "cell_type": "markdown",
   "id": "b3a29620",
   "metadata": {},
   "source": [
    "### Observation:\n",
    "Female and male students have different average final grades, giving insight into performance trends."
   ]
  },
  {
   "cell_type": "markdown",
   "id": "aa5aabc7",
   "metadata": {},
   "source": [
    "## Task 3: Data Visualization"
   ]
  },
  {
   "cell_type": "code",
   "execution_count": null,
   "id": "b5935d7f",
   "metadata": {},
   "outputs": [],
   "source": [
    "# 1. Line chart: Trend of absences across students\n",
    "plt.figure(figsize=(10,5))\n",
    "plt.plot(df_clean.index, df_clean['absences'], color='blue')\n",
    "plt.title('Student Absences Trend')\n",
    "plt.xlabel('Student Index')\n",
    "plt.ylabel('Absences')\n",
    "plt.show()"
   ]
  },
  {
   "cell_type": "code",
   "execution_count": null,
   "id": "73f7db2c",
   "metadata": {},
   "outputs": [],
   "source": [
    "# 2. Bar chart: Average G3 by school\n",
    "avg_by_school = df_clean.groupby('school')['G3'].mean()\n",
    "avg_by_school.plot(kind='bar', color='orange')\n",
    "plt.title('Average Final Grade by School')\n",
    "plt.xlabel('School')\n",
    "plt.ylabel('Average G3')\n",
    "plt.show()"
   ]
  },
  {
   "cell_type": "code",
   "execution_count": null,
   "id": "53209704",
   "metadata": {},
   "outputs": [],
   "source": [
    "# 3. Histogram: Distribution of final grades (G3)\n",
    "df_clean['G3'].plot(kind='hist', bins=10, color='green', edgecolor='black')\n",
    "plt.title('Distribution of Final Grades (G3)')\n",
    "plt.xlabel('G3')\n",
    "plt.show()"
   ]
  },
  {
   "cell_type": "code",
   "execution_count": null,
   "id": "8f7aa9d6",
   "metadata": {},
   "outputs": [],
   "source": [
    "# 4. Scatter plot: Relationship between G1 and G3\n",
    "plt.scatter(df_clean['G1'], df_clean['G3'], alpha=0.6, color='purple')\n",
    "plt.title('Relationship between G1 and G3')\n",
    "plt.xlabel('First Period Grade (G1)')\n",
    "plt.ylabel('Final Grade (G3)')\n",
    "plt.show()"
   ]
  },
  {
   "cell_type": "markdown",
   "id": "4ea84701",
   "metadata": {},
   "source": [
    "### Findings:\n",
    "- There is a positive correlation between G1 and G3, indicating early performance predicts final grades.\n",
    "- Distribution of G3 shows most students score in mid-range.\n",
    "- Average performance varies slightly between schools.\n",
    "- Absences vary widely but most students have few absences."
   ]
  }
 ],
 "metadata": {
  "kernelspec": {
   "display_name": "base",
   "language": "python",
   "name": "python3"
  },
  "language_info": {
   "name": "python",
   "version": "3.11.4"
  }
 },
 "nbformat": 4,
 "nbformat_minor": 5
}
