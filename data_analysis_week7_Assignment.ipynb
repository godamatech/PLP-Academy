{
 "cells": [
  {
   "cell_type": "markdown",
   "id": "7cf0a986",
   "metadata": {},
   "source": [
    "# 📊 Data Analysis with Pandas and Matplotlib\n",
    "This notebook demonstrates how to:\n",
    "- Load and explore a dataset\n",
    "- Perform basic data analysis\n",
    "- Visualize results with matplotlib\n",
    "\n",
    "We’ll use a sample `sales_data.csv` dataset."
   ]
  },
  {
   "cell_type": "markdown",
   "id": "27edc886",
   "metadata": {},
   "source": [
    "## Task 1: Load and Explore the Dataset"
   ]
  },
  {
   "cell_type": "code",
   "execution_count": null,
   "id": "75c46183",
   "metadata": {},
   "outputs": [
    {
     "ename": "",
     "evalue": "",
     "output_type": "error",
     "traceback": [
      "\u001b[1;31mFailed to start the Kernel. \n",
      "\u001b[1;31mUnable to start Kernel 'Python 3.10.10' due to a timeout waiting for the ports to get used. \n",
      "\u001b[1;31mView Jupyter <a href='command:jupyter.viewOutput'>log</a> for further details."
     ]
    }
   ],
   "source": [
    "\n",
    "import pandas as pd\n",
    "import matplotlib.pyplot as plt\n",
    "\n",
    "# Load dataset\n",
    "try:\n",
    "    df = pd.read_csv(\"sales_data.csv\")\n",
    "    print(\"✅ File loaded successfully!\")\n",
    "except FileNotFoundError:\n",
    "    print(\"❌ Error: File not found. Please check the file path.\")\n",
    "\n",
    "# Display first 10 rows\n",
    "df.head(10)\n"
   ]
  },
  {
   "cell_type": "code",
   "execution_count": null,
   "id": "fbaddb50",
   "metadata": {},
   "outputs": [],
   "source": [
    "\n",
    "# Dataset structure and missing values\n",
    "print(\"\\nDataset Info:\")\n",
    "print(df.info())\n",
    "\n",
    "print(\"\\nMissing Values:\")\n",
    "print(df.isnull().sum())\n",
    "\n",
    "# Fill missing values if any\n",
    "df = df.fillna(0)\n"
   ]
  },
  {
   "cell_type": "markdown",
   "id": "a5b40716",
   "metadata": {},
   "source": [
    "## Task 2: Basic Data Analysis"
   ]
  },
  {
   "cell_type": "code",
   "execution_count": null,
   "id": "1ad5a9f6",
   "metadata": {},
   "outputs": [],
   "source": [
    "\n",
    "# Basic statistics\n",
    "df.describe()\n"
   ]
  },
  {
   "cell_type": "code",
   "execution_count": null,
   "id": "bc51bcce",
   "metadata": {},
   "outputs": [],
   "source": [
    "\n",
    "# Group by product and compute average revenue\n",
    "avg_revenue = df.groupby(\"Product\")[\"Revenue ($)\"].mean()\n",
    "avg_revenue\n"
   ]
  },
  {
   "cell_type": "code",
   "execution_count": null,
   "id": "a3782731",
   "metadata": {},
   "outputs": [],
   "source": [
    "\n",
    "# Which product generates the highest average revenue?\n",
    "avg_revenue = df.groupby('Product')['Revenue ($)'].mean()\n",
    "highest = avg_revenue.idxmax()\n",
    "print(f\"{highest} has the highest average revenue.\")\n"
   ]
  },
  {
   "cell_type": "markdown",
   "id": "98af7ce0",
   "metadata": {},
   "source": [
    "## Task 3: Data Visualization"
   ]
  },
  {
   "cell_type": "code",
   "execution_count": null,
   "id": "d459a235",
   "metadata": {},
   "outputs": [],
   "source": [
    "\n",
    "# 1. Line chart: Revenue over time\n",
    "plt.figure(figsize=(8,5))\n",
    "plt.plot(df[\"Date\"], df[\"Revenue ($)\"], marker=\"o\")\n",
    "plt.xlabel(\"Date\")\n",
    "plt.ylabel(\"Revenue ($)\")\n",
    "plt.title(\"Revenue Trend Over Time\")\n",
    "plt.xticks(rotation=45)\n",
    "plt.show()\n"
   ]
  },
  {
   "cell_type": "code",
   "execution_count": null,
   "id": "0b609df5",
   "metadata": {},
   "outputs": [],
   "source": [
    "\n",
    "# 2. Bar chart: Average revenue by product\n",
    "avg_revenue.plot(kind=\"bar\", color=\"skyblue\")\n",
    "plt.xlabel(\"Product\")\n",
    "plt.ylabel(\"Average Revenue ($)\")\n",
    "plt.title(\"Average Revenue by Product\")\n",
    "plt.show()\n"
   ]
  },
  {
   "cell_type": "code",
   "execution_count": null,
   "id": "8fa030d1",
   "metadata": {},
   "outputs": [],
   "source": [
    "\n",
    "# 3. Histogram: Quantity Sold distribution\n",
    "df[\"Quantity Sold\"].plot(kind=\"hist\", bins=10, color=\"orange\", edgecolor=\"black\")\n",
    "plt.xlabel(\"Quantity Sold\")\n",
    "plt.title(\"Distribution of Quantity Sold\")\n",
    "plt.show()\n"
   ]
  },
  {
   "cell_type": "code",
   "execution_count": null,
   "id": "bf7649e0",
   "metadata": {},
   "outputs": [],
   "source": [
    "\n",
    "# 4. Scatter plot: Quantity vs Revenue\n",
    "df.plot(kind=\"scatter\", x=\"Quantity Sold\", y=\"Revenue ($)\", c=\"green\")\n",
    "plt.title(\"Quantity Sold vs Revenue\")\n",
    "plt.xlabel(\"Quantity Sold\")\n",
    "plt.ylabel(\"Revenue ($)\")\n",
    "plt.show()\n"
   ]
  }
 ],
 "metadata": {
  "kernelspec": {
   "display_name": "Python 3",
   "language": "python",
   "name": "python3"
  },
  "language_info": {
   "name": "python",
   "version": "3.10.10"
  }
 },
 "nbformat": 4,
 "nbformat_minor": 5
}
